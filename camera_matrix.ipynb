{
 "cells": [
  {
   "cell_type": "code",
   "execution_count": 11,
   "metadata": {
    "collapsed": true
   },
   "outputs": [],
   "source": [
    "import os\n",
    "from glob import glob\n",
    "\n",
    "import numpy as np\n",
    "import cv2\n",
    "import matplotlib.pyplot as plt\n",
    "import matplotlib.image as mpimg"
   ]
  },
  {
   "cell_type": "code",
   "execution_count": 9,
   "metadata": {
    "collapsed": true
   },
   "outputs": [],
   "source": [
    "files = glob('./camera_cal/*.jpg')"
   ]
  },
  {
   "cell_type": "code",
   "execution_count": 28,
   "metadata": {
    "collapsed": false
   },
   "outputs": [
    {
     "name": "stdout",
     "output_type": "stream",
     "text": [
      "['./camera_cal/calibration4.jpg', './camera_cal/calibration8.jpg', './camera_cal/calibration9.jpg', './camera_cal/calibration2.jpg', './camera_cal/calibration7.jpg', './camera_cal/calibration18.jpg', './camera_cal/calibration6.jpg', './camera_cal/calibration13.jpg', './camera_cal/calibration1.jpg', './camera_cal/calibration15.jpg', './camera_cal/calibration14.jpg', './camera_cal/calibration16.jpg', './camera_cal/calibration10.jpg', './camera_cal/calibration3.jpg', './camera_cal/calibration11.jpg', './camera_cal/calibration17.jpg', './camera_cal/calibration5.jpg', './camera_cal/calibration20.jpg', './camera_cal/calibration12.jpg', './camera_cal/calibration19.jpg']\n"
     ]
    }
   ],
   "source": [
    "print(files)"
   ]
  },
  {
   "cell_type": "code",
   "execution_count": 20,
   "metadata": {
    "collapsed": false
   },
   "outputs": [],
   "source": [
    "def calibrate_camera(files):\n",
    "    \n",
    "    objp = np.zeros((6 * 9, 3), np.float32)\n",
    "    objp[:, :2] = np.mgrid[0:9, 0:6].T.reshape(-1, 2)\n",
    "    \n",
    "    object_points = []\n",
    "    image_points = []\n",
    "    for fname in files:\n",
    "        img = cv2.imread(fname)\n",
    "        gray = cv2.cvtColor(img, cv2.COLOR_BGR2GRAY)\n",
    "        ret, corners = cv2.findChessboardCorners(gray, (9, 6), None)\n",
    "        print(ret)\n",
    "        if ret:\n",
    "            object_points.append(objp)\n",
    "            image_points.append(corners)           \n",
    "    ret, mtx, dist, rvecs, tvecs = cv2.calibrateCamera(object_points, image_points, gray.shape[::-1], None, None)\n",
    "    return ret, mtx, dist, rvecs, tvecs\n",
    "            \n"
   ]
  },
  {
   "cell_type": "code",
   "execution_count": 21,
   "metadata": {
    "collapsed": false
   },
   "outputs": [
    {
     "name": "stdout",
     "output_type": "stream",
     "text": [
      "False\n",
      "True\n",
      "True\n",
      "True\n",
      "True\n",
      "True\n",
      "True\n",
      "True\n",
      "False\n",
      "True\n",
      "True\n",
      "True\n",
      "True\n",
      "True\n",
      "True\n",
      "True\n",
      "False\n",
      "True\n",
      "True\n",
      "True\n"
     ]
    }
   ],
   "source": [
    "ret, mtx, dist, rvecs, tvecs = calibrate_camera(files)"
   ]
  },
  {
   "cell_type": "code",
   "execution_count": 27,
   "metadata": {
    "collapsed": false
   },
   "outputs": [
    {
     "data": {
      "text/plain": [
       "[array([[  0.7014351],\n",
       "        [ -2.9001952],\n",
       "        [ 19.5033317]]), array([[ -0.87749794],\n",
       "        [ -4.5628898 ],\n",
       "        [ 21.64088689]]), array([[-3.83498058],\n",
       "        [-1.59623848],\n",
       "        [ 7.94136389]]), array([[ -9.64623426],\n",
       "        [ -3.25401813],\n",
       "        [ 32.03535572]]), array([[ -3.63923607],\n",
       "        [ -4.12214649],\n",
       "        [ 17.72145269]]), array([[ -4.97952826],\n",
       "        [ -3.83821782],\n",
       "        [ 30.41248115]]), array([[ -6.06136681],\n",
       "        [ -1.54277113],\n",
       "        [ 26.6077651 ]]), array([[  4.46791786],\n",
       "        [ -1.45553778],\n",
       "        [ 19.91167384]]), array([[  5.35073144],\n",
       "        [ -4.43439198],\n",
       "        [ 20.69860635]]), array([[  4.86295442],\n",
       "        [ -5.0332483 ],\n",
       "        [ 19.69539304]]), array([[ -2.11922855],\n",
       "        [ -0.71465388],\n",
       "        [ 19.53183554]]), array([[ -4.40335216],\n",
       "        [ -3.04835705],\n",
       "        [ 10.68886726]]), array([[-16.99963028],\n",
       "        [ -3.45711062],\n",
       "        [ 31.88140225]]), array([[ -3.98286443],\n",
       "        [ -1.31029172],\n",
       "        [ 16.98785567]]), array([[-13.43070279],\n",
       "        [ -0.45669297],\n",
       "        [ 24.41876447]]), array([[ -0.21898193],\n",
       "        [ -3.45905797],\n",
       "        [ 21.82352738]]), array([[-13.0435234 ],\n",
       "        [ -5.57212836],\n",
       "        [ 23.64304788]])]"
      ]
     },
     "execution_count": 27,
     "metadata": {},
     "output_type": "execute_result"
    }
   ],
   "source": [
    "tvecs"
   ]
  },
  {
   "cell_type": "code",
   "execution_count": null,
   "metadata": {
    "collapsed": true
   },
   "outputs": [],
   "source": []
  }
 ],
 "metadata": {
  "kernelspec": {
   "display_name": "Python 3",
   "language": "python",
   "name": "python3"
  },
  "language_info": {
   "codemirror_mode": {
    "name": "ipython",
    "version": 3
   },
   "file_extension": ".py",
   "mimetype": "text/x-python",
   "name": "python",
   "nbconvert_exporter": "python",
   "pygments_lexer": "ipython3",
   "version": "3.5.2"
  },
  "widgets": {
   "state": {},
   "version": "1.1.2"
  }
 },
 "nbformat": 4,
 "nbformat_minor": 2
}
